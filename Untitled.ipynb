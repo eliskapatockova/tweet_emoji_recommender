{
 "cells": [
  {
   "cell_type": "code",
   "execution_count": 1,
   "id": "2ee71e4f",
   "metadata": {},
   "outputs": [],
   "source": [
    "import os\n",
    "import emoji\n",
    "import pandas as pd\n",
    "import streamlit as st                  # pip install streamlit\n",
    "from helper_functions import fetch_dataset\n",
    "from sklearn.feature_extraction.text import CountVectorizer\n",
    "from sklearn.feature_extraction.text import TfidfTransformer\n",
    "import re\n",
    "import langdetect\n",
    "from langdetect import detect\n",
    "import nltk\n",
    "from nltk.corpus import stopwords\n",
    "\n"
   ]
  },
  {
   "cell_type": "code",
   "execution_count": null,
   "id": "51a90487",
   "metadata": {},
   "outputs": [],
   "source": [
    "def join_dataframes():\n",
    "    dirname = os.path.join(os.getcwd(), 'filtered_data')\n",
    "    ext = ('.csv')\n",
    "\n",
    "    files = []\n",
    "    for file in os.listdir(dirname):\n",
    "        if file.endswith(ext):\n",
    "            files.append(file)\n",
    "        else:\n",
    "            continue\n",
    "    frames = []\n",
    "    for f in files:\n",
    "        frames.append(pd.read_csv(os.path.join(dirname, f)))\n",
    "    df = pd.concat(frames)\n",
    "    return df\n",
    "\n",
    "def get_emojis(s):\n",
    "    return emoji.distinct_emoji_list(str(s))\n",
    "\n",
    "def remove_emojis(s):\n",
    "    emojis = get_emojis(s)\n",
    "    return ''.join('' if c in emojis else c for c in str(s))\n",
    "\n",
    "def remove_numbers(text):\n",
    "    no_num = re.sub(r'\\d+', '', text)\n",
    "    return no_num\n",
    "def detect_lang(text):\n",
    "    try:\n",
    "        return detect(text)\n",
    "    except:\n",
    "        return \"unknown\"\n",
    "    \n",
    "def remove_stopwords(text):\n",
    "    no_stop = \" \".join([c for c in text if c not in stop])\n",
    "    return no_stop\n",
    "\n",
    "def preprocess_data():\n",
    "    df = pd.DataFrame()\n",
    "    for file in os.listdir(\"./filtered_data\"):\n",
    "        emoji_name = file.split(\".\")[0]\n",
    "        df_emoji = pd.read_csv(os.path.join(\"./filtered_data\", file))\n",
    "        df_emoji[\"Emoji\"] = df_emoji[\"Text\"].apply(get_emojis)\n",
    "\n",
    "        # remove mentions, hashtags, newlines, links\n",
    "        df_emoji[\"Text\"] = df_emoji[\"Text\"].apply(remove_emojis).apply(lambda x: re.sub('[@#][^\\s]+', '', x)).apply(lambda x: re.sub('&[^\\s]+;', '', x)).apply(lambda x: re.sub('http[^\\s]+', '', x)).apply(lambda x: re.sub('\\n', '', x))\n",
    "        print(df_emoji.head())\n",
    "\n",
    "        # remove numbers\n",
    "        df_emoji['Text'] = df_emoji['Text'].apply(lambda x: remove_numbers(x))\n",
    "\n",
    "        #remove tweets in other languages\n",
    "        df_emoji['language'] = df_emoji['Text'].apply(lambda x: detect_lang(x))\n",
    "        ataStorage = df_emoji[df_emoji['language'] == 'en']\n",
    "\n",
    "        #remove stopwords from text\n",
    "        nltk.download('stopwords')\n",
    "        stop = stopwords.words('english')\n",
    "        df_emoji['Text'] = df_emoji['Text'].apply(lambda x: remove_stopwords(x))\n",
    "\n",
    "        # TODO remove special character\n",
    "\n",
    "        # map labels to numbers\n",
    "        classes = ['smiling_face_with_tear', 'thinking_face', 'smiling_face', \n",
    "        'winking_face', 'loudly_crying_face', 'smiling_face_with_hearts', \n",
    "        'smiling_face_with_heart-eyes', 'smiling_face_with_halo', \n",
    "        'grinning_face_with_sweat', 'enraged_face', 'fearful_face', \n",
    "        'hot_face', 'partying_face', 'melting_face', 'face_with_tears_of_joy', \n",
    "        'face_holding_back_tears', 'face_with_steam_from_nose', 'rolling_on_the_floor_laughing', \n",
    "        'eyes', 'face_savoring_food']\n",
    "\n",
    "        label = range(0, 20)\n",
    "        encoded_label = dict(zip(classes, label))\n",
    "        df_emoji['class'] = df_emoji['class'].map(encoded_label)\n",
    "        # convert to lower case\n",
    "        df_emoji['Text'] = df_emoji['Text'].apply(lambda x: x.lower())\n",
    "\n",
    "        return df_emoji"
   ]
  },
  {
   "cell_type": "code",
   "execution_count": 8,
   "id": "6a295146",
   "metadata": {},
   "outputs": [
    {
     "name": "stdout",
     "output_type": "stream",
     "text": [
      "Tank you, pastor. My mouth should get more \n"
     ]
    }
   ],
   "source": [
    "import emoji\n",
    "st = \"Tank you, pastor. 🤣😋🤣😋My mouth should get more 🤣😋🤣😋\"\n",
    "def remove_emojis(s):\n",
    "    res = ''\n",
    "    for c in str(s):\n",
    "        if not emoji.is_emoji(c):\n",
    "            res += c\n",
    "    return res\n",
    "\n",
    "print(remove_emojis(st))"
   ]
  },
  {
   "cell_type": "code",
   "execution_count": null,
   "id": "b4c0ac82",
   "metadata": {},
   "outputs": [],
   "source": []
  }
 ],
 "metadata": {
  "kernelspec": {
   "display_name": "Python 3 (ipykernel)",
   "language": "python",
   "name": "python3"
  },
  "language_info": {
   "codemirror_mode": {
    "name": "ipython",
    "version": 3
   },
   "file_extension": ".py",
   "mimetype": "text/x-python",
   "name": "python",
   "nbconvert_exporter": "python",
   "pygments_lexer": "ipython3",
   "version": "3.9.12"
  }
 },
 "nbformat": 4,
 "nbformat_minor": 5
}
